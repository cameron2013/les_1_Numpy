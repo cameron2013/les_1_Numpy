{
 "cells": [
  {
   "cell_type": "markdown",
   "id": "b760f74f",
   "metadata": {},
   "source": [
    "#### 1 задание"
   ]
  },
  {
   "cell_type": "code",
   "execution_count": 1,
   "id": "bf28d803",
   "metadata": {},
   "outputs": [],
   "source": [
    "import numpy as np"
   ]
  },
  {
   "cell_type": "code",
   "execution_count": 2,
   "id": "da34bcd8",
   "metadata": {},
   "outputs": [],
   "source": [
    "a = np.array([[1, 2, 3, 3, 1], [6, 8, 10, 11, 7]])"
   ]
  },
  {
   "cell_type": "code",
   "execution_count": 3,
   "id": "0fa0ba72",
   "metadata": {},
   "outputs": [
    {
     "name": "stdout",
     "output_type": "stream",
     "text": [
      "[[ 1  2  3  3  1]\n",
      " [ 6  8 10 11  7]]\n"
     ]
    }
   ],
   "source": [
    "print(a)"
   ]
  },
  {
   "cell_type": "code",
   "execution_count": 4,
   "id": "081bac02",
   "metadata": {},
   "outputs": [],
   "source": [
    "mean_a = a.mean(axis = 1)"
   ]
  },
  {
   "cell_type": "code",
   "execution_count": 5,
   "id": "ab55b2b3",
   "metadata": {},
   "outputs": [
    {
     "data": {
      "text/plain": [
       "array([2. , 8.4])"
      ]
     },
     "execution_count": 5,
     "metadata": {},
     "output_type": "execute_result"
    }
   ],
   "source": [
    "mean_a"
   ]
  },
  {
   "cell_type": "markdown",
   "id": "f22a9d56",
   "metadata": {},
   "source": [
    "#### 2 задание"
   ]
  },
  {
   "cell_type": "code",
   "execution_count": 6,
   "id": "cda66eff",
   "metadata": {
    "scrolled": true
   },
   "outputs": [],
   "source": [
    "a_centered = (a.T-mean_a).T"
   ]
  },
  {
   "cell_type": "markdown",
   "id": "063fff27",
   "metadata": {},
   "source": [
    "#### 3 задание"
   ]
  },
  {
   "cell_type": "code",
   "execution_count": 8,
   "id": "0407505d",
   "metadata": {},
   "outputs": [
    {
     "name": "stdout",
     "output_type": "stream",
     "text": [
      "8.0\n"
     ]
    }
   ],
   "source": [
    " a_centered_sp = np.dot(a_centered[0], a_centered[1])\n",
    "print(a_centered_sp)"
   ]
  },
  {
   "cell_type": "code",
   "execution_count": 12,
   "id": "7468629b",
   "metadata": {},
   "outputs": [
    {
     "data": {
      "text/plain": [
       "2.0"
      ]
     },
     "execution_count": 12,
     "metadata": {},
     "output_type": "execute_result"
    }
   ],
   "source": [
    "a_centered_sp / (a.shape[1]-1)"
   ]
  },
  {
   "cell_type": "code",
   "execution_count": null,
   "id": "8b8f3d7f",
   "metadata": {},
   "outputs": [],
   "source": []
  }
 ],
 "metadata": {
  "kernelspec": {
   "display_name": "Python 3",
   "language": "python",
   "name": "python3"
  },
  "language_info": {
   "codemirror_mode": {
    "name": "ipython",
    "version": 3
   },
   "file_extension": ".py",
   "mimetype": "text/x-python",
   "name": "python",
   "nbconvert_exporter": "python",
   "pygments_lexer": "ipython3",
   "version": "3.9.2"
  }
 },
 "nbformat": 4,
 "nbformat_minor": 5
}
